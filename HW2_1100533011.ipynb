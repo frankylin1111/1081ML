{
 "cells": [
  {
   "cell_type": "markdown",
   "metadata": {},
   "source": [
    "# Homework2"
   ]
  },
  {
   "cell_type": "markdown",
   "metadata": {},
   "source": [
    "1.利用使用者所輸入的球體半徑來計算其體積(V)及表面積(A)：V = 4/3πr3 , A = 4πr2"
   ]
  },
  {
   "cell_type": "code",
   "execution_count": 4,
   "metadata": {},
   "outputs": [
    {
     "name": "stdout",
     "output_type": "stream",
     "text": [
      "請輸入球體半徑:3\n",
      "這是球體體積: 113.09733552923255 \n",
      "這是球體表面積: 113.09733552923255 \n",
      "\n"
     ]
    }
   ],
   "source": [
    "import math\n",
    "a = int(input(\"請輸入球體半徑:\"))\n",
    "b = (math.pow(a,3)*4*math.pi)/3\n",
    "c = a*a*4*math.pi\n",
    "print(\"這是球體體積:\",b,\"\\n這是球體表面積:\",c,\"\\n\")"
   ]
  },
  {
   "cell_type": "markdown",
   "metadata": {},
   "source": [
    "2.工人欲粉刷某個高度的牆壁，所需使用梯子的長度為何？由使用者輸入高度及梯子與地面的角度。"
   ]
  },
  {
   "cell_type": "code",
   "execution_count": 6,
   "metadata": {},
   "outputs": [
    {
     "name": "stdout",
     "output_type": "stream",
     "text": [
      "請輸入梯子的長度:12\n",
      "請輸入與地面的角度:30.0\n",
      "12\n",
      "30.0\n"
     ]
    }
   ],
   "source": [
    "import math\n",
    "a = int(input(\"請輸入梯子的長度:\"))\n",
    "b = float(input(\"請輸入與地面的角度:\"))\n",
    "print(a)\n",
    "print(b)"
   ]
  },
  {
   "cell_type": "markdown",
   "metadata": {},
   "source": [
    "3.π 的近似值可以如此計算：4/1 – 4/3 + 4/5 – 4/7 + 4/9 – 4/11 + ...，令使用者輸入要計算幾個項目，然後計算 π 的近似值。"
   ]
  },
  {
   "cell_type": "code",
   "execution_count": 13,
   "metadata": {},
   "outputs": [
    {
     "name": "stdout",
     "output_type": "stream",
     "text": [
      "請輸入你想要的次項:95\n",
      "3.152118677831945\n"
     ]
    }
   ],
   "source": [
    "a = int(input(\"請輸入你想要的次項:\"))\n",
    "total = 0\n",
    "for i in range(1,a+1):\n",
    "    b = 4/((2*i)-1)\n",
    "    if ((i%2) == 1):\n",
    "        total += b\n",
    "    else:\n",
    "        total -= b\n",
    "print(total)"
   ]
  },
  {
   "cell_type": "markdown",
   "metadata": {},
   "source": [
    "4.將 avg2.py 程式改為計算 3 個分數的平均值。"
   ]
  },
  {
   "cell_type": "code",
   "execution_count": 15,
   "metadata": {},
   "outputs": [
    {
     "name": "stdout",
     "output_type": "stream",
     "text": [
      "This program computes the averages of the three scores.\n",
      "Enter three score separated by a comma:100,100,100\n",
      "The average of three scores is : 100.0\n"
     ]
    }
   ],
   "source": [
    "def avg3():\n",
    "    print(\"This program computes the averages of the three scores.\")\n",
    "    score1,score2,score3 = eval(input(\"Enter three score separated by a comma:\"))\n",
    "    average = (score1+score2+score3)/3\n",
    "    print(\"The average of three scores is :\" , average)\n",
    "\n",
    "avg3()"
   ]
  },
  {
   "cell_type": "markdown",
   "metadata": {},
   "source": [
    "5.將 convert.py 程式改為利用 for 迴圈計算 5 次度數轉換。"
   ]
  },
  {
   "cell_type": "code",
   "execution_count": null,
   "metadata": {},
   "outputs": [],
   "source": [
    "def convert():\n",
    "    celsius = eval(input(\"What is Celsius temperature? \"))\n",
    "    farhrenhet = celsius \n",
    "    for i in range(5):\n",
    "        farhrenhet = 9/5 * farhrenhet + 32\n",
    "    print(\"The temperature is \",farhrenhet,\"degree Fahrenheit\")\n",
    "convert()"
   ]
  },
  {
   "cell_type": "markdown",
   "metadata": {},
   "source": [
    "6.將 futval.py 程式改為依照使用者指定年限來計算未來價值。"
   ]
  },
  {
   "cell_type": "code",
   "execution_count": null,
   "metadata": {},
   "outputs": [],
   "source": [
    "def futval():\n",
    "    print(\"This program calculates the furture value\")\n",
    "    print(\"of a year investment.\")\n",
    "    principle = eval(input (\"Enter the initial principle: \"))\n",
    "    apr = eval(input(\"Enter the annual interest rate:\"))\n",
    "    year = eval(input(\"Enter the year!\"))\n",
    "    for i in range(year):\n",
    "        principle = principle * (1+apr)\n",
    "    print(\"The value in {} years is:{}\".format(year,principle))"
   ]
  },
  {
   "cell_type": "markdown",
   "metadata": {},
   "source": [
    "7.撰寫程式計算兩個正整數的最大公因數(Greatest common divisor, GCD)。\n",
    "假設 g 是兩個正整數 n 及 m 的最大公因數，因此 n 及 m 都是g 的倍數。\n",
    "歐幾里德(Euclid)依據中國餘數定理(Chinese Remainder Theorem)提出了\n",
    "計算 GCD 的簡單演算法 g = GCD(n, m)，n > m：主要概念為從 n、m 開始，重複計算一序列的餘數直到最後餘數為0。\n",
    "例如：n = 80,844, m = 25,320，g = GCD(80844, 25320) = 12：\n",
    "\n",
    "80,844 mod 25,320 = 4,844\n",
    "25,320 mod 4,844 = 900\n",
    "4,844 mod 900 = 384\n",
    "900 mod 384 = 132\n",
    "384 mod 132 = 120\n",
    "132 mod 120 = 12\n",
    "120 mod 12 = 0"
   ]
  },
  {
   "cell_type": "code",
   "execution_count": null,
   "metadata": {},
   "outputs": [],
   "source": [
    "def gcd(n,m):\n",
    "    if ((n%m) == 0):\n",
    "        return m\n",
    "    else:\n",
    "        return gcd(m,n%m)\n",
    "print(gcd(36,12))"
   ]
  },
  {
   "cell_type": "markdown",
   "metadata": {},
   "source": [
    "8.寫一個互動式程式，讓使用者能夠輸入數值計算表示式，然後印出最後計算值。\n",
    "加入一個 for 迴圈讓使用者能一直輸入表示式。程式如何結束？當使用者輸入錯誤表示式時，讓程式當掉。"
   ]
  },
  {
   "cell_type": "code",
   "execution_count": null,
   "metadata": {},
   "outputs": [],
   "source": [
    "for i in range(1000):\n",
    "    try:\n",
    "        x = eval(input(\"請輸入一個數字:\"))\n",
    "    except Exception as e:\n",
    "        print(\"x is not int\")\n",
    "        break"
   ]
  },
  {
   "cell_type": "markdown",
   "metadata": {},
   "source": [
    "9.許多老師將學生成績以等級來記錄：90~100：A，80~89：B，70~79：C，60~69：D，0~59：F。請寫程式讓使用者輸入一個分數，然後程式印出其等級。"
   ]
  },
  {
   "cell_type": "code",
   "execution_count": null,
   "metadata": {},
   "outputs": [],
   "source": [
    "x = eval(input(\"請輸入你想要查詢的成績: \"))\n",
    "if x>=90 && x<=100:\n",
    "    print(\"A\")\n",
    "elif x>=80 && x<=89:\n",
    "    print(\"B\")\n",
    "elif x>=70 && x<=79:\n",
    "    print(\"C\")\n",
    "elif x >=60 && x<=69:\n",
    "    print(\"D\")\n",
    "else:\n",
    "    print(\"F\")"
   ]
  },
  {
   "cell_type": "markdown",
   "metadata": {},
   "source": [
    "10.承上題，程式讀取一個檔案，檔案中每行都是一個 0~100 的分數，將每行分數轉為等級後，產生一個輸出等級檔案。"
   ]
  },
  {
   "cell_type": "code",
   "execution_count": null,
   "metadata": {},
   "outputs": [],
   "source": [
    "infile = open(\"test1.txt\", 'r')\n",
    "for i in range(10): # Read 5 lines\n",
    "    line = infile.readline()\n",
    "    x = int(line)\n",
    "    if x>=90 and x<=100:\n",
    "        print(\"A\")\n",
    "    elif x>=80 and x<=89:\n",
    "        print(\"B\")\n",
    "    elif x>=70 and x<=79:\n",
    "        print(\"C\")\n",
    "    elif x >=60 and x<=69:\n",
    "        print(\"D\")\n",
    "    else:\n",
    "        print(\"F\")\n",
    "infile.close()"
   ]
  },
  {
   "cell_type": "markdown",
   "metadata": {},
   "source": [
    "11.首字縮寫字(Acronym)是將許多字的第一個字母取出並改為大寫後所組成的字，例如 RAM 是\"random access memory\"的縮寫字。\n",
    "請撰寫程式讓使用者輸入一組字，然後印出首字縮寫字。"
   ]
  },
  {
   "cell_type": "code",
   "execution_count": null,
   "metadata": {},
   "outputs": [],
   "source": [
    "phrase = input(\"Enter a phrase: \")\n",
    "words = phrase.split(\" \")\n",
    "letters = []\n",
    "for i in words:\n",
    "    if i == \"the\" or i == \"at\" or i == \"of\":\n",
    "        words.remove(i)\n",
    "for i in words:\n",
    "    letters.append(i[0].upper())\n",
    "print (\"\".join(letters))"
   ]
  },
  {
   "cell_type": "markdown",
   "metadata": {},
   "source": [
    "12.許多命理學家宣稱他們可以藉由一個人的生日決定一個人的人格特質，人格特質數字是由生日的數字持續相加而來，\n",
    "例如：1976 年 11月 25 日，人格特質數字為 1976 + 25 + 11 = 2012 = 2 + 0 + 1 + 2 = 直到剩下一個個位數字。\n",
    "請撰寫程式，使用者輸入其生日(格式：mm/dd/yyyy)，程式輸出其數值。(http://www.starlightnumerology.com/numbertable.htm)"
   ]
  },
  {
   "cell_type": "code",
   "execution_count": null,
   "metadata": {},
   "outputs": [],
   "source": [
    "x = input(\"請輸入你的生日:\")\n",
    "letter=\"\"\n",
    "total = 0\n",
    "total2=0\n",
    "find = 0\n",
    "y = []\n",
    "for i in x:\n",
    "    if i != \"/\":\n",
    "        letter = letter + i\n",
    "    else:\n",
    "        y.append(int(letter))\n",
    "        letter = \"\"\n",
    "y.append(int(letter))\n",
    "letter = \"\"\n",
    "z = y\n",
    "while find == 0:\n",
    "    total = sum(z)\n",
    "    z=[]\n",
    "    if (total//10) == 0:   # 注意:取整數\n",
    "        print(total)\n",
    "        find =1\n",
    "        break\n",
    "    while total != 0:\n",
    "        s = total % 10\n",
    "        z.append(s)\n",
    "        total = total // 10   # 取整數"
   ]
  },
  {
   "cell_type": "markdown",
   "metadata": {},
   "source": [
    "13.輸入若干n個數字，輸出指定第k大的數字。如果k=0就結束程式。\n",
    "      Sample input: 6 8 15 29 35 47 77 3 2 4 1 0\n",
    "      Sample output: \n",
    "    第3大的數字是 35\n",
    "    第2大的數字是 47\n",
    "    第4大的數字是 29\n",
    "    第1大的數字是 77"
   ]
  },
  {
   "cell_type": "code",
   "execution_count": null,
   "metadata": {},
   "outputs": [],
   "source": [
    "x =[]\n",
    "while 1:\n",
    "\ty = int(input(\"請輸入一個數字: (輸入-1 停止操作)\"))\n",
    "\tif y == -1:\n",
    "\t\tbreak\n",
    "\tx.append(y)\n",
    "\n",
    "k =-1\n",
    "while k !=0:\n",
    "    k = int(input(\"請輸入一個數字: (輸入0停止操作)\"))\n",
    "    if k ==0:\n",
    "        print(\"停止操作~~\")\n",
    "        break\n",
    "    q=x.sort()\n",
    "    a = '第{}大的數字是{}'.format(k,x[k-1])\n",
    "    print(a)\n",
    "        "
   ]
  },
  {
   "cell_type": "markdown",
   "metadata": {},
   "source": [
    "14.設計一個薪資試算程式，要求使用者輸入月薪為何？ 以及工作月數為何？並結算該年之中可以獲得多少薪資？以及平均每日賺得多少薪資？"
   ]
  },
  {
   "cell_type": "code",
   "execution_count": null,
   "metadata": {},
   "outputs": [],
   "source": [
    "def calculate(n,m):\n",
    "    print(\"月薪:{}\\n一年中工作月數是多少:{}\\n\".format(n,m))\n",
    "    print(\"一年中可以獲得${}錢,平均每日可以賺得多少錢${}\".format(n*12,n/13))\n",
    "x = eval(input(\"月薪等於多少?\"))\n",
    "y = eval(input(\"一年中可以工作的月數:\"))\n",
    "calculate(12000,12)"
   ]
  },
  {
   "cell_type": "markdown",
   "metadata": {},
   "source": [
    "15.使用 range() 的方式，設計九九乘法表，將『數字1』到『數字81』print 出來 。"
   ]
  },
  {
   "cell_type": "code",
   "execution_count": null,
   "metadata": {},
   "outputs": [],
   "source": [
    "for i in range(1,10):\n",
    "        for j in range(1,10):\n",
    "            print('{} X {} = {} \\t'.format(i,j,j*i))\n",
    "        print(\"\\n\")"
   ]
  }
 ],
 "metadata": {
  "kernelspec": {
   "display_name": "Python 3",
   "language": "python",
   "name": "python3"
  },
  "language_info": {
   "codemirror_mode": {
    "name": "ipython",
    "version": 3
   },
   "file_extension": ".py",
   "mimetype": "text/x-python",
   "name": "python",
   "nbconvert_exporter": "python",
   "pygments_lexer": "ipython3",
   "version": "3.7.3"
  }
 },
 "nbformat": 4,
 "nbformat_minor": 2
}
