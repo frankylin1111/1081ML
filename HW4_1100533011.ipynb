{
 "cells": [
  {
   "cell_type": "markdown",
   "metadata": {},
   "source": [
    "# Homework4"
   ]
  },
  {
   "cell_type": "markdown",
   "metadata": {},
   "source": [
    "1. 寫一個程式能大致畫一個人臉!"
   ]
  },
  {
   "cell_type": "code",
   "execution_count": 1,
   "metadata": {},
   "outputs": [],
   "source": [
    "from turtle import*\n",
    "setup(600,600,200,200)\n",
    "#臉\n",
    "penup()\n",
    "goto(-210,0)\n",
    "seth(-90)\n",
    "pendown()\n",
    "pencolor('orange')\n",
    "pensize(4)\n",
    "begin_fill()\n",
    "circle(210,360)\n",
    "fillcolor('yellow')\n",
    "end_fill()\n",
    "pencolor('black')\n",
    "#畫嘴巴\n",
    "pensize(5)\n",
    "penup()\n",
    "goto(-150,-30)\n",
    "pendown()\n",
    "seth(-90)\n",
    "circle(150,180)\n",
    "#左眼眶\n",
    "penup()\n",
    "pensize(4)\n",
    "goto(-180,90)\n",
    "pendown()\n",
    "seth(40)\n",
    "begin_fill()\n",
    "circle(-120,80)\n",
    "penup()\n",
    "goto(-180,90)\n",
    "seth(-130)\n",
    "pendown()\n",
    "circle(15,110)\n",
    "seth(40)\n",
    "circle(-106,83)\n",
    "seth(30)\n",
    "circle(18,105)\n",
    "fillcolor('white')\n",
    "end_fill()\n",
    "#右眼眶\n",
    "penup()\n",
    "goto(20,90)\n",
    "pendown()\n",
    "seth(40)\n",
    "begin_fill()\n",
    "circle(-120,80)\n",
    "penup()\n",
    "goto(20,90)\n",
    "pendown()\n",
    "seth(-130)\n",
    "circle(15,110)\n",
    "seth(40)\n",
    "circle(-106,83)\n",
    "seth(30)\n",
    "circle(18,105)\n",
    "fillcolor('white')\n",
    "end_fill()\n",
    "#畫眼珠\n",
    "pensize(2)\n",
    "penup()\n",
    "goto(50,95)\n",
    "pendown()\n",
    "begin_fill()\n",
    "circle(8,360)\n",
    "fillcolor('black')\n",
    "end_fill()\n",
    "penup()\n",
    "goto(-150,95)\n",
    "pendown()\n",
    "begin_fill()\n",
    "circle(8,360)\n",
    "fillcolor('black')\n",
    "end_fill()\n",
    "#畫腮紅\n",
    "pensize(1)\n",
    "pencolor('pink')\n",
    "begin_fill()\n",
    "penup()\n",
    "goto(-160,50)\n",
    "pendown()\n",
    "seth(-90)\n",
    "for i in range(2):\n",
    "    for j in range(10):\n",
    "        forward(j)\n",
    "        left(9)\n",
    "    for j in range(10,0,-1):\n",
    "        forward(j)\n",
    "        left(9)\n",
    "fillcolor('pink')\n",
    "end_fill()\n",
    "pensize(1)\n",
    "pencolor('pink')\n",
    "begin_fill()\n",
    "penup()\n",
    "goto(40,50)\n",
    "pendown()\n",
    "seth(-90)\n",
    "for i in range(2):\n",
    "    for j in range(10):\n",
    "        forward(j)\n",
    "        left(9)\n",
    "    for j in range(10,0,-1):\n",
    "        forward(j)\n",
    "        left(9)\n",
    "fillcolor('pink')\n",
    "end_fill()\n",
    "hideturtle()"
   ]
  },
  {
   "cell_type": "markdown",
   "metadata": {},
   "source": [
    "2. 寫一程式，讓使用者在視窗中利用滑鼠左鍵點擊 2 點，依照該 2 個對角點繪製長方形，並在視窗中顯示該長方形的邊界長及面積。"
   ]
  },
  {
   "cell_type": "code",
   "execution_count": 3,
   "metadata": {},
   "outputs": [],
   "source": [
    "from graphics import *\n",
    "def main():\n",
    "    win = GraphWin(\"Draw a Rectangle\")\n",
    "    win.setCoords(0.0,0.0,10.0,10.0)\n",
    "    message = Text(Point(5,0.5),\"Clik on two points.\")\n",
    "    message.draw(win)\n",
    "\n",
    "    p1 = win.getMouse()\n",
    "    p1.draw(win)\n",
    "    p2 = win.getMouse()\n",
    "    p2.draw(win)\n",
    "\n",
    "    rectangle = Rectangle(p1,p2)\n",
    "    rectangle.setFill(\"peachpuff\")\n",
    "    rectangle.setOutline(\"cyan\")\n",
    "    rectangle.draw(win)\n",
    "    p3 = abs(p1.getX()-p2.getX())\n",
    "    p4 = abs(p1.getY()-p2.getY())\n",
    "    p5 = int(p3)*int(p4)\n",
    "    \n",
    "    message2 = Text(Point(5,1.5),\"長:%d  寬:%d  面積:%d\" % (int(p3),int(p4),p5))\n",
    "    message2.draw(win)\n",
    "    message.setText(\"Click anywhere to quit.\")\n",
    "    win.getMouse()\n",
    "    win.close()\n",
    "\n",
    "main()"
   ]
  },
  {
   "cell_type": "markdown",
   "metadata": {},
   "source": [
    "3. 寫一程式，讓使用者在視窗中利用滑鼠左鍵點擊 3 點，依照該 3 點繪製三角形，並在視窗中顯示該三角形的邊界長及面積。"
   ]
  },
  {
   "cell_type": "code",
   "execution_count": 2,
   "metadata": {},
   "outputs": [
    {
     "ename": "GraphicsError",
     "evalue": "getMouse in closed window",
     "output_type": "error",
     "traceback": [
      "\u001b[1;31m---------------------------------------------------------------------------\u001b[0m",
      "\u001b[1;31mGraphicsError\u001b[0m                             Traceback (most recent call last)",
      "\u001b[1;32m<ipython-input-2-fb330b857092>\u001b[0m in \u001b[0;36m<module>\u001b[1;34m\u001b[0m\n\u001b[0;32m     31\u001b[0m     \u001b[0mwin\u001b[0m\u001b[1;33m.\u001b[0m\u001b[0mclose\u001b[0m\u001b[1;33m(\u001b[0m\u001b[1;33m)\u001b[0m\u001b[1;33m\u001b[0m\u001b[1;33m\u001b[0m\u001b[0m\n\u001b[0;32m     32\u001b[0m \u001b[1;33m\u001b[0m\u001b[0m\n\u001b[1;32m---> 33\u001b[1;33m \u001b[0mmain\u001b[0m\u001b[1;33m(\u001b[0m\u001b[1;33m)\u001b[0m\u001b[1;33m\u001b[0m\u001b[1;33m\u001b[0m\u001b[0m\n\u001b[0m",
      "\u001b[1;32m<ipython-input-2-fb330b857092>\u001b[0m in \u001b[0;36mmain\u001b[1;34m()\u001b[0m\n\u001b[0;32m     28\u001b[0m \u001b[1;33m\u001b[0m\u001b[0m\n\u001b[0;32m     29\u001b[0m     \u001b[0mmessage\u001b[0m\u001b[1;33m.\u001b[0m\u001b[0msetText\u001b[0m\u001b[1;33m(\u001b[0m\u001b[1;34m\"Click anywhere to quit.\"\u001b[0m\u001b[1;33m)\u001b[0m\u001b[1;33m\u001b[0m\u001b[1;33m\u001b[0m\u001b[0m\n\u001b[1;32m---> 30\u001b[1;33m     \u001b[0mwin\u001b[0m\u001b[1;33m.\u001b[0m\u001b[0mgetMouse\u001b[0m\u001b[1;33m(\u001b[0m\u001b[1;33m)\u001b[0m\u001b[1;33m\u001b[0m\u001b[1;33m\u001b[0m\u001b[0m\n\u001b[0m\u001b[0;32m     31\u001b[0m     \u001b[0mwin\u001b[0m\u001b[1;33m.\u001b[0m\u001b[0mclose\u001b[0m\u001b[1;33m(\u001b[0m\u001b[1;33m)\u001b[0m\u001b[1;33m\u001b[0m\u001b[1;33m\u001b[0m\u001b[0m\n\u001b[0;32m     32\u001b[0m \u001b[1;33m\u001b[0m\u001b[0m\n",
      "\u001b[1;32m~\\Desktop\\機器學習\\graphics.py\u001b[0m in \u001b[0;36mgetMouse\u001b[1;34m(self)\u001b[0m\n\u001b[0;32m    314\u001b[0m         \u001b[1;32mwhile\u001b[0m \u001b[0mself\u001b[0m\u001b[1;33m.\u001b[0m\u001b[0mmouseX\u001b[0m \u001b[1;33m==\u001b[0m \u001b[1;32mNone\u001b[0m \u001b[1;32mor\u001b[0m \u001b[0mself\u001b[0m\u001b[1;33m.\u001b[0m\u001b[0mmouseY\u001b[0m \u001b[1;33m==\u001b[0m \u001b[1;32mNone\u001b[0m\u001b[1;33m:\u001b[0m\u001b[1;33m\u001b[0m\u001b[1;33m\u001b[0m\u001b[0m\n\u001b[0;32m    315\u001b[0m             \u001b[0mself\u001b[0m\u001b[1;33m.\u001b[0m\u001b[0mupdate\u001b[0m\u001b[1;33m(\u001b[0m\u001b[1;33m)\u001b[0m\u001b[1;33m\u001b[0m\u001b[1;33m\u001b[0m\u001b[0m\n\u001b[1;32m--> 316\u001b[1;33m             \u001b[1;32mif\u001b[0m \u001b[0mself\u001b[0m\u001b[1;33m.\u001b[0m\u001b[0misClosed\u001b[0m\u001b[1;33m(\u001b[0m\u001b[1;33m)\u001b[0m\u001b[1;33m:\u001b[0m \u001b[1;32mraise\u001b[0m \u001b[0mGraphicsError\u001b[0m\u001b[1;33m(\u001b[0m\u001b[1;34m\"getMouse in closed window\"\u001b[0m\u001b[1;33m)\u001b[0m\u001b[1;33m\u001b[0m\u001b[1;33m\u001b[0m\u001b[0m\n\u001b[0m\u001b[0;32m    317\u001b[0m             \u001b[0mtime\u001b[0m\u001b[1;33m.\u001b[0m\u001b[0msleep\u001b[0m\u001b[1;33m(\u001b[0m\u001b[1;36m.1\u001b[0m\u001b[1;33m)\u001b[0m \u001b[1;31m# give up thread\u001b[0m\u001b[1;33m\u001b[0m\u001b[1;33m\u001b[0m\u001b[0m\n\u001b[0;32m    318\u001b[0m         \u001b[0mx\u001b[0m\u001b[1;33m,\u001b[0m\u001b[0my\u001b[0m \u001b[1;33m=\u001b[0m \u001b[0mself\u001b[0m\u001b[1;33m.\u001b[0m\u001b[0mtoWorld\u001b[0m\u001b[1;33m(\u001b[0m\u001b[0mself\u001b[0m\u001b[1;33m.\u001b[0m\u001b[0mmouseX\u001b[0m\u001b[1;33m,\u001b[0m \u001b[0mself\u001b[0m\u001b[1;33m.\u001b[0m\u001b[0mmouseY\u001b[0m\u001b[1;33m)\u001b[0m\u001b[1;33m\u001b[0m\u001b[1;33m\u001b[0m\u001b[0m\n",
      "\u001b[1;31mGraphicsError\u001b[0m: getMouse in closed window"
     ]
    }
   ],
   "source": [
    "from graphics import *\n",
    "import math\n",
    "def main():\n",
    "    win = GraphWin(\"Draw a Triangle\")\n",
    "    win.setCoords(0.0,0.0,10.0,10.0)\n",
    "    message = Text(Point(5,0.5),\"Clik on three points.\")\n",
    "    message.draw(win)\n",
    "\n",
    "    p1 = win.getMouse()\n",
    "    p1.draw(win)\n",
    "    p2 = win.getMouse()\n",
    "    p2.draw(win)\n",
    "    p3 = win.getMouse()\n",
    "    p3.draw(win)\n",
    "    p4 = abs((p1.getX()*p2.getY())+(p2.getX()*p3.getY())+(p3.getX()*p3.getY()))\n",
    "    p5 = abs((p1.getY()*p2.getX())+(p2.getY()*p3.getX())+(p3.getY()*p1.getX()))\n",
    "    p6 = (1/2)*abs(int(p4)-int(p5))\n",
    "    p7 = math.sqrt(abs(p1.getX()-p2.getX())**2+abs(p1.getY()-p2.getY())**2)\n",
    "    p8 = math.sqrt(abs(p2.getX()-p3.getX())**2+abs(p2.getY()-p3.getY())**2)\n",
    "    p9 = math.sqrt(abs(p3.getX()-p1.getX())**2+abs(p3.getY()-p1.getY())**2)\n",
    "    \n",
    "    message2 = Text(Point(5,1.5),\"邊長依序為:%d,%d,%d  面積:%d\" % (math.ceil(p7),math.ceil(p8),math.ceil(p9),p6))\n",
    "    message2.draw(win)\n",
    "    rectangle = Polygon(p1,p2,p3)\n",
    "    rectangle.setFill(\"peachpuff\")\n",
    "    rectangle.setOutline(\"cyan\")\n",
    "    rectangle.draw(win)\n",
    "\n",
    "    message.setText(\"Click anywhere to quit.\")\n",
    "    win.getMouse()\n",
    "    win.close()\n",
    "\n",
    "main()"
   ]
  },
  {
   "cell_type": "markdown",
   "metadata": {},
   "source": [
    "4. 撰寫以下 2 個函式的定義：\n",
    "\n",
    "sumN(n)：回覆前 n 個自然數的總和\n",
    "\n",
    "sumNCubes(n)：回覆前 n 個自然數的 3 次方總和"
   ]
  },
  {
   "cell_type": "code",
   "execution_count": 3,
   "metadata": {},
   "outputs": [
    {
     "data": {
      "text/plain": [
       "6084"
      ]
     },
     "execution_count": 3,
     "metadata": {},
     "output_type": "execute_result"
    }
   ],
   "source": [
    "def sumN(n):\n",
    "    if n == 1:\n",
    "        return 1\n",
    "    else:\n",
    "        return n+sumN(n-1)\n",
    "def sumNCubes(n):\n",
    "    if n==1:\n",
    "        return 1\n",
    "    else:\n",
    "        return n**3 + sumNCubes(n-1)\n",
    "\n",
    "sumNCubes(12)"
   ]
  },
  {
   "cell_type": "markdown",
   "metadata": {},
   "source": [
    "5. 撰寫一函式，功能如下：\n",
    "toNumbers(strList)：strList 是一個字串的串列，內含數值字串，例如:[\"32\", \"21\", \"56\"]，將串列中的每個項目改為數值!"
   ]
  },
  {
   "cell_type": "code",
   "execution_count": 1,
   "metadata": {},
   "outputs": [
    {
     "name": "stdout",
     "output_type": "stream",
     "text": [
      "[10, 11, 12, 13, 14, 15]\n"
     ]
    }
   ],
   "source": [
    "def toNumber(a):\n",
    "\ti = 0\n",
    "\twhile i != len(a):\n",
    "\t\ta[i] = eval(a[i])\n",
    "\t\ti = i+1\n",
    "\tprint(a)\n",
    "\n",
    "toNumber([\"10\",\"11\",\"12\",\"13\",\"14\",\"15\"])"
   ]
  },
  {
   "cell_type": "markdown",
   "metadata": {},
   "source": [
    "6. 撰寫一函式，功能如下：drawFace(center, size, win) ：center 是一個點(Point)，size 是一個整數，win 是一個 GraphWin，在給定 size 後在 win 裡畫一張臉。你的函式可以畫一張簡單的笑(哭)臉，寫一個主程式能夠使用不同的參數來多次呼叫 drawFace()，以畫出許多笑臉。\n"
   ]
  },
  {
   "cell_type": "code",
   "execution_count": 9,
   "metadata": {},
   "outputs": [
    {
     "ename": "GraphicsError",
     "evalue": "getMouse in closed window",
     "output_type": "error",
     "traceback": [
      "\u001b[1;31m---------------------------------------------------------------------------\u001b[0m",
      "\u001b[1;31mGraphicsError\u001b[0m                             Traceback (most recent call last)",
      "\u001b[1;32m<ipython-input-9-ac9a81e76639>\u001b[0m in \u001b[0;36m<module>\u001b[1;34m\u001b[0m\n\u001b[0;32m     45\u001b[0m     \u001b[0mwin\u001b[0m\u001b[1;33m.\u001b[0m\u001b[0mclose\u001b[0m\u001b[1;33m(\u001b[0m\u001b[1;33m)\u001b[0m\u001b[1;33m\u001b[0m\u001b[1;33m\u001b[0m\u001b[0m\n\u001b[0;32m     46\u001b[0m \u001b[1;33m\u001b[0m\u001b[0m\n\u001b[1;32m---> 47\u001b[1;33m \u001b[0mdrawmultipleFace\u001b[0m\u001b[1;33m(\u001b[0m\u001b[1;33m[\u001b[0m\u001b[1;36m200\u001b[0m\u001b[1;33m,\u001b[0m\u001b[1;36m200\u001b[0m\u001b[1;33m]\u001b[0m\u001b[1;33m,\u001b[0m\u001b[1;36m75\u001b[0m\u001b[1;33m,\u001b[0m\u001b[0mwin\u001b[0m \u001b[1;33m=\u001b[0m \u001b[0mGraphWin\u001b[0m\u001b[1;33m(\u001b[0m\u001b[1;34m\"Draw a Happy Face!!\"\u001b[0m\u001b[1;33m,\u001b[0m\u001b[1;36m1000\u001b[0m\u001b[1;33m,\u001b[0m\u001b[1;36m1000\u001b[0m\u001b[1;33m)\u001b[0m\u001b[1;33m,\u001b[0m\u001b[0mcount\u001b[0m\u001b[1;33m=\u001b[0m\u001b[1;36m3\u001b[0m\u001b[1;33m)\u001b[0m\u001b[1;33m\u001b[0m\u001b[1;33m\u001b[0m\u001b[0m\n\u001b[0m",
      "\u001b[1;32m<ipython-input-9-ac9a81e76639>\u001b[0m in \u001b[0;36mdrawmultipleFace\u001b[1;34m(center, size, win, count)\u001b[0m\n\u001b[0;32m     42\u001b[0m         \u001b[0mcir\u001b[0m\u001b[1;33m.\u001b[0m\u001b[0msetFill\u001b[0m\u001b[1;33m(\u001b[0m\u001b[1;34m'white'\u001b[0m\u001b[1;33m)\u001b[0m  \u001b[1;31m#填充颜色\u001b[0m\u001b[1;33m\u001b[0m\u001b[1;33m\u001b[0m\u001b[0m\n\u001b[0;32m     43\u001b[0m         \u001b[0mcenter\u001b[0m \u001b[1;33m=\u001b[0m \u001b[1;33m[\u001b[0m\u001b[0mj\u001b[0m\u001b[1;33m+\u001b[0m\u001b[1;36m110\u001b[0m \u001b[1;32mfor\u001b[0m \u001b[0mj\u001b[0m \u001b[1;32min\u001b[0m \u001b[0mcenter\u001b[0m\u001b[1;33m]\u001b[0m\u001b[1;33m\u001b[0m\u001b[1;33m\u001b[0m\u001b[0m\n\u001b[1;32m---> 44\u001b[1;33m     \u001b[0mwin\u001b[0m\u001b[1;33m.\u001b[0m\u001b[0mgetMouse\u001b[0m\u001b[1;33m(\u001b[0m\u001b[1;33m)\u001b[0m\u001b[1;33m\u001b[0m\u001b[1;33m\u001b[0m\u001b[0m\n\u001b[0m\u001b[0;32m     45\u001b[0m     \u001b[0mwin\u001b[0m\u001b[1;33m.\u001b[0m\u001b[0mclose\u001b[0m\u001b[1;33m(\u001b[0m\u001b[1;33m)\u001b[0m\u001b[1;33m\u001b[0m\u001b[1;33m\u001b[0m\u001b[0m\n\u001b[0;32m     46\u001b[0m \u001b[1;33m\u001b[0m\u001b[0m\n",
      "\u001b[1;32m~\\Desktop\\機器學習\\graphics.py\u001b[0m in \u001b[0;36mgetMouse\u001b[1;34m(self)\u001b[0m\n\u001b[0;32m    314\u001b[0m         \u001b[1;32mwhile\u001b[0m \u001b[0mself\u001b[0m\u001b[1;33m.\u001b[0m\u001b[0mmouseX\u001b[0m \u001b[1;33m==\u001b[0m \u001b[1;32mNone\u001b[0m \u001b[1;32mor\u001b[0m \u001b[0mself\u001b[0m\u001b[1;33m.\u001b[0m\u001b[0mmouseY\u001b[0m \u001b[1;33m==\u001b[0m \u001b[1;32mNone\u001b[0m\u001b[1;33m:\u001b[0m\u001b[1;33m\u001b[0m\u001b[1;33m\u001b[0m\u001b[0m\n\u001b[0;32m    315\u001b[0m             \u001b[0mself\u001b[0m\u001b[1;33m.\u001b[0m\u001b[0mupdate\u001b[0m\u001b[1;33m(\u001b[0m\u001b[1;33m)\u001b[0m\u001b[1;33m\u001b[0m\u001b[1;33m\u001b[0m\u001b[0m\n\u001b[1;32m--> 316\u001b[1;33m             \u001b[1;32mif\u001b[0m \u001b[0mself\u001b[0m\u001b[1;33m.\u001b[0m\u001b[0misClosed\u001b[0m\u001b[1;33m(\u001b[0m\u001b[1;33m)\u001b[0m\u001b[1;33m:\u001b[0m \u001b[1;32mraise\u001b[0m \u001b[0mGraphicsError\u001b[0m\u001b[1;33m(\u001b[0m\u001b[1;34m\"getMouse in closed window\"\u001b[0m\u001b[1;33m)\u001b[0m\u001b[1;33m\u001b[0m\u001b[1;33m\u001b[0m\u001b[0m\n\u001b[0m\u001b[0;32m    317\u001b[0m             \u001b[0mtime\u001b[0m\u001b[1;33m.\u001b[0m\u001b[0msleep\u001b[0m\u001b[1;33m(\u001b[0m\u001b[1;36m.1\u001b[0m\u001b[1;33m)\u001b[0m \u001b[1;31m# give up thread\u001b[0m\u001b[1;33m\u001b[0m\u001b[1;33m\u001b[0m\u001b[0m\n\u001b[0;32m    318\u001b[0m         \u001b[0mx\u001b[0m\u001b[1;33m,\u001b[0m\u001b[0my\u001b[0m \u001b[1;33m=\u001b[0m \u001b[0mself\u001b[0m\u001b[1;33m.\u001b[0m\u001b[0mtoWorld\u001b[0m\u001b[1;33m(\u001b[0m\u001b[0mself\u001b[0m\u001b[1;33m.\u001b[0m\u001b[0mmouseX\u001b[0m\u001b[1;33m,\u001b[0m \u001b[0mself\u001b[0m\u001b[1;33m.\u001b[0m\u001b[0mmouseY\u001b[0m\u001b[1;33m)\u001b[0m\u001b[1;33m\u001b[0m\u001b[1;33m\u001b[0m\u001b[0m\n",
      "\u001b[1;31mGraphicsError\u001b[0m: getMouse in closed window"
     ]
    }
   ],
   "source": [
    "from graphics import*\n",
    "def drawFace(center,size,win):\n",
    "    ##win.setCoords(0.0,0.0,10.0,10.0)\n",
    "    cir = Circle(Point(center[0],center[1]), size)  \n",
    "    cir.draw(win)  \n",
    "    cir.setOutline('red') #外围轮廓颜色  \n",
    "    cir.setFill('yellow')  #填充颜色\n",
    "    cir = Circle(Point(center[0]-30,center[1]-30), size-70)  \n",
    "    cir.draw(win)\n",
    "    cir.setOutline('black') #外围轮廓颜色  \n",
    "    cir.setFill('black')  #填充颜色\n",
    "    cir = Circle(Point(center[0]+60,center[1]-30), size-70)  \n",
    "    cir.draw(win)\n",
    "    cir.setOutline('black') #外围轮廓颜色  \n",
    "    cir.setFill('black')  #填充颜色\n",
    "    cir = Circle(Point(center[0],center[1]+20), size-65)  \n",
    "    cir.draw(win)\n",
    "    cir.setOutline('black') #外围轮廓颜色  \n",
    "    cir.setFill('white')  #填充颜色\n",
    "    win.getMouse()  \n",
    "    win.close()\n",
    "def drawmultipleFace(center,size,win,count):\n",
    "    if count == 0:\n",
    "        print(\"No Face !!\")\n",
    "    center = [j+100 for j in center]\n",
    "    for i in range(count):\n",
    "        cir = Circle(Point(center[0],center[1]), size)  \n",
    "        cir.draw(win)  \n",
    "        cir.setOutline('red') #外围轮廓颜色  \n",
    "        cir.setFill('yellow')  #填充颜色\n",
    "        cir = Circle(Point(center[0]-30,center[1]-30), size-70)  \n",
    "        cir.draw(win)\n",
    "        cir.setOutline('black') #外围轮廓颜色  \n",
    "        cir.setFill('black')  #填充颜色\n",
    "        cir = Circle(Point(center[0]+60,center[1]-30), size-70)  \n",
    "        cir.draw(win)\n",
    "        cir.setOutline('black') #外围轮廓颜色  \n",
    "        cir.setFill('black')  #填充颜色\n",
    "        cir = Circle(Point(center[0],center[1]+20), size-65)  \n",
    "        cir.draw(win)\n",
    "        cir.setOutline('black') #外围轮廓颜色  \n",
    "        cir.setFill('white')  #填充颜色\n",
    "        center = [j+110 for j in center]\n",
    "    win.getMouse()  \n",
    "    win.close()\n",
    "    \n",
    "drawmultipleFace([200,200],75,win = GraphWin(\"Draw a Happy Face!!\",1000,1000),count=3)"
   ]
  }
 ],
 "metadata": {
  "kernelspec": {
   "display_name": "Python 3",
   "language": "python",
   "name": "python3"
  },
  "language_info": {
   "codemirror_mode": {
    "name": "ipython",
    "version": 3
   },
   "file_extension": ".py",
   "mimetype": "text/x-python",
   "name": "python",
   "nbconvert_exporter": "python",
   "pygments_lexer": "ipython3",
   "version": "3.7.3"
  }
 },
 "nbformat": 4,
 "nbformat_minor": 2
}
